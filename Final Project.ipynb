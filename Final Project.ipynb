{
 "cells": [
  {
   "cell_type": "markdown",
   "id": "7ca7ddad",
   "metadata": {},
   "source": [
    "# Đồ án cuối kỳ\n",
    "\n",
    "\n",
    "\n",
    "|    Họ và Tên    |    MSSV    |\n",
    "| ---------|----------|\n",
    "| Tạ Tiến Thành Đạt| 1712333    |\n",
    "| Nguyễn Nhật Hảo| 19120501   |\n",
    "\n",
    "Link Trello: https://trello.com/b/udLhkMpv/l%E1%BB%8Bch-tr%C3%ACnh"
   ]
  },
  {
   "cell_type": "markdown",
   "id": "0f7b7b72",
   "metadata": {},
   "source": [
    "## Import các thư viện cần thiết"
   ]
  },
  {
   "cell_type": "code",
   "execution_count": 3,
   "id": "2b2b2476",
   "metadata": {},
   "outputs": [],
   "source": [
    "import numpy as np\n",
    "import pandas as pd\n",
    "import matplotlib as plt"
   ]
  },
  {
   "cell_type": "markdown",
   "id": "ece7aa44",
   "metadata": {
    "heading_collapsed": true
   },
   "source": [
    "## Thu thập dữ liệu"
   ]
  },
  {
   "cell_type": "markdown",
   "id": "e648899f",
   "metadata": {
    "hidden": true
   },
   "source": [
    "Trong đồ án này chúng em sử dụng [bộ dữ liệu](https://www.kaggle.com/altadata/covid19?fbclid=IwAR3bOuHzXvun8UHQd-6xKWAxpz9m_hICvuBF0zXkbWNh4TlorFre7_GyV40) về COVID-19 được public trên Kaggle. Bộ dữ liệu này ghi lại những thông tin số liệu thống kê về đại dịch COVID-19 hằng ngày trên toàn thế giới do Trung tâm Khoa học Hệ thống và Kỹ thuật (CSSE) của Đại học Johns Hopkins (JHU) cung cấp. Sở dĩ nhóm chúng em chọn bộ dữ liệu này cho đồ án bởi như tất cả mọi người đều đã thấy, sự ảnh hưởng mà đại dịch COVID-19 đã gây ra cho thế giới trong hơn 2 năm qua thật sự to lớn. Và chính bản thân những người sinh viên như chúng em cũng đã phải chịu ảnh hưởng nhất định đến việc học việc làm cũng như đời sống. Đó cũng chính là nguồn động lực thúc đẩy chúng em muốn tìm hiểu và phân tích nhiều hơn về đại dịch trong đồ án này."
   ]
  },
  {
   "cell_type": "markdown",
   "id": "a80dbc72",
   "metadata": {},
   "source": [
    "## Khám phá dữ liệu và tiền xử lý"
   ]
  },
  {
   "cell_type": "markdown",
   "id": "24491bf0",
   "metadata": {},
   "source": [
    "**Đọc dữ liệu từ file csv vào dataframe**"
   ]
  },
  {
   "cell_type": "code",
   "execution_count": 4,
   "id": "6bd87456",
   "metadata": {},
   "outputs": [
    {
     "data": {
      "text/html": [
       "<div>\n",
       "<style scoped>\n",
       "    .dataframe tbody tr th:only-of-type {\n",
       "        vertical-align: middle;\n",
       "    }\n",
       "\n",
       "    .dataframe tbody tr th {\n",
       "        vertical-align: top;\n",
       "    }\n",
       "\n",
       "    .dataframe thead th {\n",
       "        text-align: right;\n",
       "    }\n",
       "</style>\n",
       "<table border=\"1\" class=\"dataframe\">\n",
       "  <thead>\n",
       "    <tr style=\"text-align: right;\">\n",
       "      <th></th>\n",
       "      <th>reported_date</th>\n",
       "      <th>country_region</th>\n",
       "      <th>population</th>\n",
       "      <th>confirmed</th>\n",
       "      <th>active</th>\n",
       "      <th>deaths</th>\n",
       "      <th>recovered</th>\n",
       "      <th>mortality_rate</th>\n",
       "      <th>incident_rate</th>\n",
       "    </tr>\n",
       "  </thead>\n",
       "  <tbody>\n",
       "    <tr>\n",
       "      <th>0</th>\n",
       "      <td>2020-02-24</td>\n",
       "      <td>Afghanistan</td>\n",
       "      <td>38928341.0</td>\n",
       "      <td>1</td>\n",
       "      <td>1</td>\n",
       "      <td>0</td>\n",
       "      <td>0</td>\n",
       "      <td>0.0</td>\n",
       "      <td>0.003</td>\n",
       "    </tr>\n",
       "    <tr>\n",
       "      <th>1</th>\n",
       "      <td>2020-02-25</td>\n",
       "      <td>Afghanistan</td>\n",
       "      <td>38928341.0</td>\n",
       "      <td>1</td>\n",
       "      <td>1</td>\n",
       "      <td>0</td>\n",
       "      <td>0</td>\n",
       "      <td>0.0</td>\n",
       "      <td>0.003</td>\n",
       "    </tr>\n",
       "    <tr>\n",
       "      <th>2</th>\n",
       "      <td>2020-02-26</td>\n",
       "      <td>Afghanistan</td>\n",
       "      <td>38928341.0</td>\n",
       "      <td>1</td>\n",
       "      <td>1</td>\n",
       "      <td>0</td>\n",
       "      <td>0</td>\n",
       "      <td>0.0</td>\n",
       "      <td>0.003</td>\n",
       "    </tr>\n",
       "    <tr>\n",
       "      <th>3</th>\n",
       "      <td>2020-02-27</td>\n",
       "      <td>Afghanistan</td>\n",
       "      <td>38928341.0</td>\n",
       "      <td>1</td>\n",
       "      <td>1</td>\n",
       "      <td>0</td>\n",
       "      <td>0</td>\n",
       "      <td>0.0</td>\n",
       "      <td>0.003</td>\n",
       "    </tr>\n",
       "    <tr>\n",
       "      <th>4</th>\n",
       "      <td>2020-02-28</td>\n",
       "      <td>Afghanistan</td>\n",
       "      <td>38928341.0</td>\n",
       "      <td>1</td>\n",
       "      <td>1</td>\n",
       "      <td>0</td>\n",
       "      <td>0</td>\n",
       "      <td>0.0</td>\n",
       "      <td>0.003</td>\n",
       "    </tr>\n",
       "    <tr>\n",
       "      <th>...</th>\n",
       "      <td>...</td>\n",
       "      <td>...</td>\n",
       "      <td>...</td>\n",
       "      <td>...</td>\n",
       "      <td>...</td>\n",
       "      <td>...</td>\n",
       "      <td>...</td>\n",
       "      <td>...</td>\n",
       "      <td>...</td>\n",
       "    </tr>\n",
       "    <tr>\n",
       "      <th>32606</th>\n",
       "      <td>2020-03-12</td>\n",
       "      <td>occupied Palestinian territory</td>\n",
       "      <td>NaN</td>\n",
       "      <td>0</td>\n",
       "      <td>0</td>\n",
       "      <td>0</td>\n",
       "      <td>0</td>\n",
       "      <td>NaN</td>\n",
       "      <td>NaN</td>\n",
       "    </tr>\n",
       "    <tr>\n",
       "      <th>32607</th>\n",
       "      <td>2020-03-14</td>\n",
       "      <td>occupied Palestinian territory</td>\n",
       "      <td>NaN</td>\n",
       "      <td>0</td>\n",
       "      <td>0</td>\n",
       "      <td>0</td>\n",
       "      <td>0</td>\n",
       "      <td>NaN</td>\n",
       "      <td>NaN</td>\n",
       "    </tr>\n",
       "    <tr>\n",
       "      <th>32608</th>\n",
       "      <td>2020-03-15</td>\n",
       "      <td>occupied Palestinian territory</td>\n",
       "      <td>NaN</td>\n",
       "      <td>0</td>\n",
       "      <td>0</td>\n",
       "      <td>0</td>\n",
       "      <td>0</td>\n",
       "      <td>NaN</td>\n",
       "      <td>NaN</td>\n",
       "    </tr>\n",
       "    <tr>\n",
       "      <th>32609</th>\n",
       "      <td>2020-03-16</td>\n",
       "      <td>occupied Palestinian territory</td>\n",
       "      <td>NaN</td>\n",
       "      <td>0</td>\n",
       "      <td>0</td>\n",
       "      <td>0</td>\n",
       "      <td>0</td>\n",
       "      <td>NaN</td>\n",
       "      <td>NaN</td>\n",
       "    </tr>\n",
       "    <tr>\n",
       "      <th>32610</th>\n",
       "      <td>2020-03-17</td>\n",
       "      <td>occupied Palestinian territory</td>\n",
       "      <td>NaN</td>\n",
       "      <td>0</td>\n",
       "      <td>0</td>\n",
       "      <td>0</td>\n",
       "      <td>0</td>\n",
       "      <td>NaN</td>\n",
       "      <td>NaN</td>\n",
       "    </tr>\n",
       "  </tbody>\n",
       "</table>\n",
       "<p>32611 rows × 9 columns</p>\n",
       "</div>"
      ],
      "text/plain": [
       "      reported_date                  country_region  population  confirmed  \\\n",
       "0        2020-02-24                     Afghanistan  38928341.0          1   \n",
       "1        2020-02-25                     Afghanistan  38928341.0          1   \n",
       "2        2020-02-26                     Afghanistan  38928341.0          1   \n",
       "3        2020-02-27                     Afghanistan  38928341.0          1   \n",
       "4        2020-02-28                     Afghanistan  38928341.0          1   \n",
       "...             ...                             ...         ...        ...   \n",
       "32606    2020-03-12  occupied Palestinian territory         NaN          0   \n",
       "32607    2020-03-14  occupied Palestinian territory         NaN          0   \n",
       "32608    2020-03-15  occupied Palestinian territory         NaN          0   \n",
       "32609    2020-03-16  occupied Palestinian territory         NaN          0   \n",
       "32610    2020-03-17  occupied Palestinian territory         NaN          0   \n",
       "\n",
       "       active  deaths  recovered  mortality_rate  incident_rate  \n",
       "0           1       0          0             0.0          0.003  \n",
       "1           1       0          0             0.0          0.003  \n",
       "2           1       0          0             0.0          0.003  \n",
       "3           1       0          0             0.0          0.003  \n",
       "4           1       0          0             0.0          0.003  \n",
       "...       ...     ...        ...             ...            ...  \n",
       "32606       0       0          0             NaN            NaN  \n",
       "32607       0       0          0             NaN            NaN  \n",
       "32608       0       0          0             NaN            NaN  \n",
       "32609       0       0          0             NaN            NaN  \n",
       "32610       0       0          0             NaN            NaN  \n",
       "\n",
       "[32611 rows x 9 columns]"
      ]
     },
     "execution_count": 4,
     "metadata": {},
     "output_type": "execute_result"
    }
   ],
   "source": [
    "df = pd.read_csv('Data/altadatacovid_19.csv')\n",
    "df"
   ]
  },
  {
   "cell_type": "markdown",
   "id": "73b539ca",
   "metadata": {},
   "source": [
    "**Dữ liệu có bao nhiêu dòng và bao nhiêu cột?**"
   ]
  },
  {
   "cell_type": "markdown",
   "id": "7c70140d",
   "metadata": {},
   "source": [
    "**Mỗi dòng có ý nghĩa gì? Có vấn đề các dòng có ý nghĩa\n",
    "khác nhau không?**"
   ]
  },
  {
   "cell_type": "markdown",
   "id": "a9c06dba",
   "metadata": {},
   "source": [
    "**Dữ liệu có các dòng bị lặp không??**"
   ]
  },
  {
   "cell_type": "markdown",
   "id": "a4d3fda8",
   "metadata": {},
   "source": [
    "**Mỗi cột có ý nghĩa gì?**"
   ]
  },
  {
   "cell_type": "markdown",
   "id": "fc833d51",
   "metadata": {},
   "source": [
    "**Mỗi cột hiện đang có kiểu dữ liệu gì? Có cột nào có kiểu\n",
    "dữ liệu chưa phù hợp để có thể xử lý tiếp không?**"
   ]
  },
  {
   "cell_type": "markdown",
   "id": "2b608e46",
   "metadata": {},
   "source": [
    "**Với mỗi cột có kiểu dữ liệu dạng số (numerical), các giá\n",
    "trị được phân bố như thế nào?**"
   ]
  },
  {
   "cell_type": "markdown",
   "id": "277c8476",
   "metadata": {},
   "source": [
    "**Với mỗi cột có kiểu dữ liệu dạng phân loại (categorical),\n",
    "các giá trị được phân bố như thế nào?**"
   ]
  },
  {
   "cell_type": "markdown",
   "id": "9aa70a7d",
   "metadata": {},
   "source": [
    "## Đặt ra câu hỏi từ dữ liệu"
   ]
  },
  {
   "cell_type": "markdown",
   "id": "d12fb663",
   "metadata": {},
   "source": [
    "## Phân tích dữ liệu để trả lời câu hỏi"
   ]
  },
  {
   "cell_type": "markdown",
   "id": "159124a8",
   "metadata": {},
   "source": [
    "## Tổng kết và nhìn lại quá trình làm đồ án"
   ]
  }
 ],
 "metadata": {
  "kernelspec": {
   "display_name": "Python 3 (ipykernel)",
   "language": "python",
   "name": "python3"
  },
  "language_info": {
   "codemirror_mode": {
    "name": "ipython",
    "version": 3
   },
   "file_extension": ".py",
   "mimetype": "text/x-python",
   "name": "python",
   "nbconvert_exporter": "python",
   "pygments_lexer": "ipython3",
   "version": "3.8.8"
  },
  "toc": {
   "base_numbering": 1,
   "nav_menu": {},
   "number_sections": false,
   "sideBar": true,
   "skip_h1_title": false,
   "title_cell": "Table of Contents",
   "title_sidebar": "Contents",
   "toc_cell": false,
   "toc_position": {},
   "toc_section_display": true,
   "toc_window_display": false
  }
 },
 "nbformat": 4,
 "nbformat_minor": 5
}
